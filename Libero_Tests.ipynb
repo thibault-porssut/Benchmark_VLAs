{
 "cells": [
  {
   "cell_type": "code",
   "execution_count": null,
   "id": "bb234c77",
   "metadata": {},
   "outputs": [],
   "source": [
    "!python ~/Benchmark_VLAs/lerobot/src/lerobot/scripts/train.py \\\n",
    "  --policy.path=lerobot/smolvla_base \\\n",
    "  --dataset.repo_id=lerobot/svla_so101_pickplace \\\n",
    "  --batch_size=64 \\\n",
    "  --steps=20000 \\\n",
    "  --output_dir=outputs/train/my_smolvla \\\n",
    "  --job_name=my_smolvla_training \\\n",
    "  --policy.device=cuda \\\n",
    "  --wandb.enable=true \\\n",
    "  --policy.push_to_hub=false"
   ]
  },
  {
   "cell_type": "code",
   "execution_count": null,
   "id": "d1ac1454",
   "metadata": {},
   "outputs": [],
   "source": [
    "import uvicorn\n",
    "import os\n",
    "os.environ[\"USE_SMOLVLA\"] = \"true\"\n",
    "uvicorn.run(\"complete_model_server:app\", host=\"0.0.0.0\", port=8000, reload=False)"
   ]
  },
  {
   "cell_type": "code",
   "execution_count": null,
   "id": "7ae1ff55-152a-4055-92bf-c22e53e52c0f",
   "metadata": {},
   "outputs": [],
   "source": []
  }
 ],
 "metadata": {
  "kernelspec": {
   "display_name": "smolvla",
   "language": "python",
   "name": "python3"
  },
  "language_info": {
   "codemirror_mode": {
    "name": "ipython",
    "version": 3
   },
   "file_extension": ".py",
   "mimetype": "text/x-python",
   "name": "python",
   "nbconvert_exporter": "python",
   "pygments_lexer": "ipython3",
   "version": "3.10.13"
  }
 },
 "nbformat": 4,
 "nbformat_minor": 5
}
