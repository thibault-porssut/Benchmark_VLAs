{
 "cells": [
  {
   "cell_type": "code",
   "execution_count": null,
   "id": "bb234c77",
   "metadata": {},
   "outputs": [],
   "source": [
    "!cd lerobot && python lerobot/scripts/train.py \\\n",
    "  --policy.path=lerobot/smolvla_base \\\n",
    "  --dataset.repo_id=physical-intelligence/libero \\\n",
    "  --batch_size=64 \\\n",
    "  --steps=20000 \\\n",
    "  --output_dir=outputs/train/my_smolvla_bis \\\n",
    "  --job_name=my_smolvla_training \\\n",
    "  --policy.device=cuda \\\n",
    "  --wandb.enable=true"
   ]
  },
  {
   "cell_type": "code",
   "execution_count": 5,
   "id": "d1ac1454",
   "metadata": {},
   "outputs": [
    {
     "name": "stderr",
     "output_type": "stream",
     "text": [
      "INFO:     Will watch for changes in these directories: ['/home/ids/ext-5219/SmolVLA']\n",
      "INFO:     Uvicorn running on http://0.0.0.0:8000 (Press CTRL+C to quit)\n",
      "INFO:     Started reloader process [3795069] using StatReload\n",
      "ERROR:    Error loading ASGI app. Could not import module \"complete_model_server\".\n",
      "INFO:     Stopping reloader process [3795069]\n"
     ]
    }
   ],
   "source": [
    "uvicorn.run(\"complete_model_server:app\", host=\"0.0.0.0\", port=8000, reload=True)"
   ]
  }
 ],
 "metadata": {
  "kernelspec": {
   "display_name": "smolvla",
   "language": "python",
   "name": "python3"
  },
  "language_info": {
   "codemirror_mode": {
    "name": "ipython",
    "version": 3
   },
   "file_extension": ".py",
   "mimetype": "text/x-python",
   "name": "python",
   "nbconvert_exporter": "python",
   "pygments_lexer": "ipython3",
   "version": "3.10.18"
  }
 },
 "nbformat": 4,
 "nbformat_minor": 5
}
