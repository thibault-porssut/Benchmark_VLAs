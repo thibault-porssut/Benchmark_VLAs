{
 "cells": [
  {
   "cell_type": "code",
   "execution_count": null,
   "id": "bb234c77",
   "metadata": {},
   "outputs": [],
   "source": [
    "!python ~/Benchmark_VLAs/lerobot/src/lerobot/scripts/train.py \\\n",
    "  --policy.path=lerobot/smolvla_base \\\n",
    "  --dataset.repo_id=lerobot/svla_so101_pickplace \\\n",
    "  --batch_size=64 \\\n",
    "  --steps=20000 \\\n",
    "  --output_dir=outputs/train/my_smolvla \\\n",
    "  --job_name=my_smolvla_training \\\n",
    "  --policy.device=cuda \\\n",
    "  --wandb.enable=true \\\n",
    "  --policy.push_to_hub=false"
   ]
  },
  {
   "cell_type": "code",
   "execution_count": null,
   "id": "d1ac1454",
   "metadata": {},
   "outputs": [],
   "source": [
    "import uvicorn\n",
    "import os\n",
    "os.environ[\"USE_SMOLVLA\"] = \"true\"\n",
    "uvicorn.run(\"complete_model_server:app\", host=\"0.0.0.0\", port=8000, reload=False)"
   ]
  },
  {
   "cell_type": "code",
   "execution_count": 13,
   "id": "3b494dc0",
   "metadata": {},
   "outputs": [],
   "source": [
    "from huggingface_hub import HfApi\n",
    "import os\n",
    "\n",
    "api = HfApi(token=os.getenv(\"HF_TOKEN\"))\n"
   ]
  },
  {
   "cell_type": "code",
   "execution_count": 25,
   "id": "40491e78",
   "metadata": {},
   "outputs": [
    {
     "name": "stderr",
     "output_type": "stream",
     "text": [
      "It seems you are trying to upload a large folder at once. This might take some time and then fail if the folder is too large. For such cases, it is recommended to upload in smaller batches or to use `HfApi().upload_large_folder(...)`/`huggingface-cli upload-large-folder` instead. For more details, check out https://huggingface.co/docs/huggingface_hub/main/en/guides/upload#upload-a-large-folder.\n"
     ]
    },
    {
     "data": {
      "text/plain": [
       "CommitInfo(commit_url='https://huggingface.co/datasets/fenduil/libero/commit/8d908913619ac0fb37c98a0019a8e9c5c1501440', commit_message='Upload folder using huggingface_hub', commit_description='', oid='8d908913619ac0fb37c98a0019a8e9c5c1501440', pr_url=None, repo_url=RepoUrl('https://huggingface.co/datasets/fenduil/libero', endpoint='https://huggingface.co', repo_type='dataset', repo_id='fenduil/libero'), pr_revision=None, pr_num=None)"
      ]
     },
     "execution_count": 25,
     "metadata": {},
     "output_type": "execute_result"
    }
   ],
   "source": [
    "api.upload_folder(\n",
    "    folder_path=\"/home/ids/ext-5219/Benchmark_VLAs/dataset/libero\",\n",
    "    repo_id=\"fenduil/libero\",\n",
    "    repo_type=\"dataset\",\n",
    ")"
   ]
  },
  {
   "cell_type": "code",
   "execution_count": null,
   "id": "aec2bea8",
   "metadata": {},
   "outputs": [],
   "source": [
    "from huggingface_hub import HfApi\n",
    "\n",
    "hub_api = HfApi()\n",
    "hub_api.create_tag(\n",
    "    repo_id=\"fenduil/libero\", \n",
    "    tag=\"v2.0\",  # Replace with the actual version from your info.json\n",
    "    repo_type=\"dataset\"\n",
    ")\n"
   ]
  },
  {
   "cell_type": "code",
   "execution_count": null,
   "id": "7ae1ff55-152a-4055-92bf-c22e53e52c0f",
   "metadata": {},
   "outputs": [],
   "source": []
  }
 ],
 "metadata": {
  "kernelspec": {
   "display_name": "smolvla",
   "language": "python",
   "name": "python3"
  },
  "language_info": {
   "codemirror_mode": {
    "name": "ipython",
    "version": 3
   },
   "file_extension": ".py",
   "mimetype": "text/x-python",
   "name": "python",
   "nbconvert_exporter": "python",
   "pygments_lexer": "ipython3",
   "version": "3.10.13"
  }
 },
 "nbformat": 4,
 "nbformat_minor": 5
}
